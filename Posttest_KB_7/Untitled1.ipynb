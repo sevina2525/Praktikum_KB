{
 "cells": [
  {
   "cell_type": "markdown",
   "id": "c9824e17",
   "metadata": {},
   "source": [
    "## NAMA : SEVINA AFI AMALIA\n",
    "## NIM : 2009106042"
   ]
  },
  {
   "cell_type": "code",
   "execution_count": 50,
   "id": "1a36e89a",
   "metadata": {},
   "outputs": [],
   "source": [
    "import tensorflow as tf"
   ]
  },
  {
   "cell_type": "markdown",
   "id": "5a510cb3",
   "metadata": {},
   "source": [
    "## Buatlah sebuah tensor dengan shape(5,5) dengan nilai random yang disimpan dalam variable random_tensor"
   ]
  },
  {
   "cell_type": "code",
   "execution_count": 19,
   "id": "ebb25b30",
   "metadata": {},
   "outputs": [
    {
     "data": {
      "text/plain": [
       "array([[-1.7712804 , -0.26384175, -0.8001883 ,  0.32523543, -0.29229525],\n",
       "       [-0.03892351, -2.5971715 , -0.6959656 ,  1.5936499 , -2.0146837 ],\n",
       "       [ 2.0368788 , -0.6372531 ,  0.27500805,  1.379389  ,  0.49047035],\n",
       "       [-2.0028088 , -0.706048  , -0.14388853,  0.7300259 , -0.21679027],\n",
       "       [ 0.55582714,  0.09731213,  1.2802293 , -1.7101588 , -0.19957857]],\n",
       "      dtype=float32)"
      ]
     },
     "execution_count": 19,
     "metadata": {},
     "output_type": "execute_result"
    }
   ],
   "source": [
    "random_tensor = tf.Variable(tf.random.normal([5,5], mean=0.0, stddev=1.0, dtype=tf.float32, seed=None, name=None))\n",
    "random_tensor.numpy()"
   ]
  },
  {
   "cell_type": "markdown",
   "id": "2d8dba61",
   "metadata": {},
   "source": [
    "## Buatlah sebuah tensor dengan shape(5,5) dari sebuah list dengan nilai bilangan prima dalam variable prime_tensor"
   ]
  },
  {
   "cell_type": "code",
   "execution_count": 25,
   "id": "9bafde05",
   "metadata": {},
   "outputs": [
    {
     "data": {
      "text/plain": [
       "array([[ 2.,  3.,  5.,  7., 11.],\n",
       "       [13., 15., 17., 23., 29.],\n",
       "       [31., 33., 37., 41., 43.],\n",
       "       [47., 51., 53., 57., 59.],\n",
       "       [61., 67., 71., 73., 77.]], dtype=float32)"
      ]
     },
     "execution_count": 25,
     "metadata": {},
     "output_type": "execute_result"
    }
   ],
   "source": [
    "list=[[2,3,5,7,11],[13,15,17,23,29],[31,33,37,41,43],[47,51,53,57,59],[61,67,71,73,77]]\n",
    "\n",
    "prime_tensor = tf.Variable(tf.convert_to_tensor(list,dtype=tf.float32))\n",
    "prime_tensor.numpy()"
   ]
  },
  {
   "cell_type": "markdown",
   "id": "549e0a2f",
   "metadata": {},
   "source": [
    "## Tampilkan dimensi dari kedua variable tersebut"
   ]
  },
  {
   "cell_type": "code",
   "execution_count": 27,
   "id": "e6cd6fbf",
   "metadata": {},
   "outputs": [
    {
     "name": "stdout",
     "output_type": "stream",
     "text": [
      "(5, 5)\n",
      "(5, 5)\n"
     ]
    }
   ],
   "source": [
    "print(random_tensor.shape)\n",
    "print(prime_tensor.shape)"
   ]
  },
  {
   "cell_type": "markdown",
   "id": "9651b379",
   "metadata": {},
   "source": [
    "## Tampilkan hasil dari perhitungan aritmetika 2 variable tersebut (Gunakan minimal 5 operator)"
   ]
  },
  {
   "cell_type": "code",
   "execution_count": 31,
   "id": "b3dd8251",
   "metadata": {},
   "outputs": [
    {
     "data": {
      "text/plain": [
       "<tf.Tensor: shape=(5, 5), dtype=float32, numpy=\n",
       "array([[ 0.22871959,  2.7361584 ,  4.199812  ,  7.3252354 , 10.707705  ],\n",
       "       [12.961077  , 12.402828  , 16.304035  , 24.59365   , 26.985317  ],\n",
       "       [33.03688   , 32.362747  , 37.27501   , 42.37939   , 43.49047   ],\n",
       "       [44.997192  , 50.293953  , 52.85611   , 57.730026  , 58.78321   ],\n",
       "       [61.55583   , 67.09731   , 72.28023   , 71.28984   , 76.80042   ]],\n",
       "      dtype=float32)>"
      ]
     },
     "execution_count": 31,
     "metadata": {},
     "output_type": "execute_result"
    }
   ],
   "source": [
    "tf.add(prime_tensor,random_tensor) #penjumlahan"
   ]
  },
  {
   "cell_type": "code",
   "execution_count": 35,
   "id": "3d548292",
   "metadata": {},
   "outputs": [
    {
     "data": {
      "text/plain": [
       "<tf.Tensor: shape=(5, 5), dtype=float32, numpy=\n",
       "array([[  -3.5425608 ,   -0.79152524,   -4.0009413 ,    2.276648  ,\n",
       "          -3.2152476 ],\n",
       "       [  -0.50600564,  -38.957573  ,  -11.831415  ,   36.653946  ,\n",
       "         -58.425827  ],\n",
       "       [  63.14324   ,  -21.029352  ,   10.175298  ,   56.55495   ,\n",
       "          21.090225  ],\n",
       "       [ -94.13201   ,  -36.00845   ,   -7.6260924 ,   41.611477  ,\n",
       "         -12.790627  ],\n",
       "       [  33.905457  ,    6.5199127 ,   90.896286  , -124.84159   ,\n",
       "         -15.36755   ]], dtype=float32)>"
      ]
     },
     "execution_count": 35,
     "metadata": {},
     "output_type": "execute_result"
    }
   ],
   "source": [
    "tf.multiply(random_tensor,prime_tensor) #perkalian"
   ]
  },
  {
   "cell_type": "code",
   "execution_count": 36,
   "id": "0f3eb9a5",
   "metadata": {},
   "outputs": [
    {
     "data": {
      "text/plain": [
       "<tf.Tensor: shape=(5, 5), dtype=float32, numpy=\n",
       "array([[-0.8856402 , -0.08794725, -0.16003767,  0.0464622 , -0.02657229],\n",
       "       [-0.00299412, -0.17314477, -0.04093915,  0.06928913, -0.06947185],\n",
       "       [ 0.06570577, -0.0193107 ,  0.00743265,  0.03364364,  0.01140629],\n",
       "       [-0.04261295, -0.01384408, -0.00271488,  0.01280747, -0.00367441],\n",
       "       [ 0.00911192,  0.00145242,  0.0180314 , -0.02342683, -0.00259193]],\n",
       "      dtype=float32)>"
      ]
     },
     "execution_count": 36,
     "metadata": {},
     "output_type": "execute_result"
    }
   ],
   "source": [
    "tf.divide(random_tensor,prime_tensor) # pembagian"
   ]
  },
  {
   "cell_type": "code",
   "execution_count": 37,
   "id": "53411ae6",
   "metadata": {},
   "outputs": [
    {
     "data": {
      "text/plain": [
       "<tf.Tensor: shape=(5, 5), dtype=float32, numpy=\n",
       "array([[        nan,         nan,         nan, -1.1232059 ,         nan],\n",
       "       [        nan,         nan,         nan,  0.4660269 ,         nan],\n",
       "       [ 0.7114186 ,         nan, -1.290955  ,  0.32164067, -0.7123905 ],\n",
       "       [        nan,         nan,         nan, -0.31467524,         nan],\n",
       "       [-0.5872979 , -2.3298316 ,  0.2470392 ,         nan,         nan]],\n",
       "      dtype=float32)>"
      ]
     },
     "execution_count": 37,
     "metadata": {},
     "output_type": "execute_result"
    }
   ],
   "source": [
    "tf.math.log(random_tensor,prime_tensor) #logaritma"
   ]
  },
  {
   "cell_type": "code",
   "execution_count": 38,
   "id": "2b01d07f",
   "metadata": {},
   "outputs": [
    {
     "data": {
      "text/plain": [
       "<tf.Tensor: shape=(5, 5), dtype=float32, numpy=\n",
       "array([[ 3.1374342e+00, -1.8366676e-02, -3.2806581e-01,  3.8493279e-04,\n",
       "        -1.3305748e-06],\n",
       "       [-4.7071323e-19, -1.6500972e+06, -2.1085895e-03,  4.5189438e+04,\n",
       "        -6.6374221e+08],\n",
       "       [ 3.7837373e+09, -3.4857376e-07,  1.8021055e-21,  5.3352862e+05,\n",
       "         4.9699109e-14],\n",
       "       [-1.5033364e+14, -1.9522973e-08, -0.0000000e+00,  1.6228594e-08,\n",
       "        -0.0000000e+00],\n",
       "       [ 2.7626427e-16,  0.0000000e+00,  4.1441156e+07, -1.0272131e+17,\n",
       "        -0.0000000e+00]], dtype=float32)>"
      ]
     },
     "execution_count": 38,
     "metadata": {},
     "output_type": "execute_result"
    }
   ],
   "source": [
    "tf.pow(random_tensor,prime_tensor) #pangkat"
   ]
  },
  {
   "cell_type": "markdown",
   "id": "57e30e52",
   "metadata": {},
   "source": [
    "## Tampilkan nilai maksimal dan minimal dari variable random_tensor"
   ]
  },
  {
   "cell_type": "code",
   "execution_count": 39,
   "id": "9ec8cd1a",
   "metadata": {},
   "outputs": [
    {
     "data": {
      "text/plain": [
       "<tf.Tensor: shape=(5,), dtype=int64, numpy=array([2, 4, 4, 1, 2], dtype=int64)>"
      ]
     },
     "execution_count": 39,
     "metadata": {},
     "output_type": "execute_result"
    }
   ],
   "source": [
    "tf.argmax(random_tensor) #max"
   ]
  },
  {
   "cell_type": "code",
   "execution_count": 40,
   "id": "eeb5e047",
   "metadata": {},
   "outputs": [
    {
     "data": {
      "text/plain": [
       "<tf.Tensor: shape=(5,), dtype=int64, numpy=array([3, 1, 0, 4, 1], dtype=int64)>"
      ]
     },
     "execution_count": 40,
     "metadata": {},
     "output_type": "execute_result"
    }
   ],
   "source": [
    "tf.argmin(random_tensor) #min"
   ]
  },
  {
   "cell_type": "markdown",
   "id": "f505f9c6",
   "metadata": {},
   "source": [
    "## Tampilkan hasil dari penggabungan variable random_tensor dengan prime_tensor (concatenation)"
   ]
  },
  {
   "cell_type": "code",
   "execution_count": 45,
   "id": "faf17068",
   "metadata": {},
   "outputs": [
    {
     "name": "stdout",
     "output_type": "stream",
     "text": [
      "size original data :  (5, 5) (5, 5)\n",
      "size concat data :  (10, 5)\n"
     ]
    }
   ],
   "source": [
    "print(\"size original data : \",prime_tensor.shape,random_tensor.shape)\n",
    "prime_tensor = tf.concat([prime_tensor,random_tensor],axis=0)\n",
    "print(\"size concat data : \",prime_tensor.shape)"
   ]
  },
  {
   "cell_type": "markdown",
   "id": "4aacbf34",
   "metadata": {},
   "source": [
    "## Tampilkan hasil sorting dari kedua variable di atas. (descending)"
   ]
  },
  {
   "cell_type": "code",
   "execution_count": 46,
   "id": "5a328555",
   "metadata": {},
   "outputs": [
    {
     "data": {
      "text/plain": [
       "<tf.Tensor: shape=(5, 5), dtype=float32, numpy=\n",
       "array([[ 0.32523543, -0.26384175, -0.29229525, -0.8001883 , -1.7712804 ],\n",
       "       [ 1.5936499 , -0.03892351, -0.6959656 , -2.0146837 , -2.5971715 ],\n",
       "       [ 2.0368788 ,  1.379389  ,  0.49047035,  0.27500805, -0.6372531 ],\n",
       "       [ 0.7300259 , -0.14388853, -0.21679027, -0.706048  , -2.0028088 ],\n",
       "       [ 1.2802293 ,  0.55582714,  0.09731213, -0.19957857, -1.7101588 ]],\n",
       "      dtype=float32)>"
      ]
     },
     "execution_count": 46,
     "metadata": {},
     "output_type": "execute_result"
    }
   ],
   "source": [
    "tf.sort(random_tensor, direction=\"DESCENDING\")"
   ]
  },
  {
   "cell_type": "code",
   "execution_count": 49,
   "id": "ee7ffb67",
   "metadata": {},
   "outputs": [
    {
     "data": {
      "text/plain": [
       "<tf.Tensor: shape=(10, 5), dtype=float32, numpy=\n",
       "array([[ 1.1000000e+01,  7.0000000e+00,  5.0000000e+00,  3.0000000e+00,\n",
       "         2.0000000e+00],\n",
       "       [ 2.9000000e+01,  2.3000000e+01,  1.7000000e+01,  1.5000000e+01,\n",
       "         1.3000000e+01],\n",
       "       [ 4.3000000e+01,  4.1000000e+01,  3.7000000e+01,  3.3000000e+01,\n",
       "         3.1000000e+01],\n",
       "       [ 5.9000000e+01,  5.7000000e+01,  5.3000000e+01,  5.1000000e+01,\n",
       "         4.7000000e+01],\n",
       "       [ 7.7000000e+01,  7.3000000e+01,  7.1000000e+01,  6.7000000e+01,\n",
       "         6.1000000e+01],\n",
       "       [ 3.2523543e-01, -2.6384175e-01, -2.9229525e-01, -8.0018830e-01,\n",
       "        -1.7712804e+00],\n",
       "       [ 1.5936499e+00, -3.8923513e-02, -6.9596559e-01, -2.0146837e+00,\n",
       "        -2.5971715e+00],\n",
       "       [ 2.0368788e+00,  1.3793890e+00,  4.9047035e-01,  2.7500805e-01,\n",
       "        -6.3725311e-01],\n",
       "       [ 7.3002589e-01, -1.4388853e-01, -2.1679027e-01, -7.0604801e-01,\n",
       "        -2.0028088e+00],\n",
       "       [ 1.2802293e+00,  5.5582714e-01,  9.7312130e-02, -1.9957857e-01,\n",
       "        -1.7101588e+00]], dtype=float32)>"
      ]
     },
     "execution_count": 49,
     "metadata": {},
     "output_type": "execute_result"
    }
   ],
   "source": [
    "# Sorting prime_tensor secara descending\n",
    "tf.sort(prime_tensor, direction=\"DESCENDING\")"
   ]
  },
  {
   "cell_type": "code",
   "execution_count": null,
   "id": "05827930",
   "metadata": {},
   "outputs": [],
   "source": []
  }
 ],
 "metadata": {
  "kernelspec": {
   "display_name": "Python 3 (ipykernel)",
   "language": "python",
   "name": "python3"
  },
  "language_info": {
   "codemirror_mode": {
    "name": "ipython",
    "version": 3
   },
   "file_extension": ".py",
   "mimetype": "text/x-python",
   "name": "python",
   "nbconvert_exporter": "python",
   "pygments_lexer": "ipython3",
   "version": "3.10.7"
  }
 },
 "nbformat": 4,
 "nbformat_minor": 5
}
